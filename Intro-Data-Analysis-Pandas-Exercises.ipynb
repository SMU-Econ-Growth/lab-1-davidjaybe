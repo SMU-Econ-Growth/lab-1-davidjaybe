{
 "cells": [
  {
   "cell_type": "code",
   "execution_count": null,
   "id": "331132a0-5c3f-44c0-b583-8af4b15ce383",
   "metadata": {},
   "outputs": [],
   "source": []
  },
  {
   "cell_type": "code",
   "execution_count": null,
   "id": "a18abd24-e1b1-43f6-91c5-92bcbaca6ef5",
   "metadata": {},
   "outputs": [],
   "source": [
    "from __future__ import division\n",
    "%matplotlib inline\n",
    "import os\n",
    "import matplotlib.pyplot as plt\n",
    "import numpy as np\n",
    "import pandas as pd\n",
    "from IPython.display import IFrame\n",
    "url = 'https://en.wikipedia.org/wiki/List_of_countries_by_population_(United_Nations)'\n",
    "IFrame(url, width=800, height=400)\n",
    "pop = pd.read_html(url, encoding='utf-8')[0]\n",
    "pop"
   ]
  },
  {
   "cell_type": "code",
   "execution_count": null,
   "id": "ca74b2ef-9ee3-479a-836b-969d606b68fa",
   "metadata": {},
   "outputs": [],
   "source": [
    "pop.columns\n",
    "pop.columns = ['Country Name', 'UN Region', 'UN Subregion', 'pop_2018', 'pop_2019', 'pop_change']\n",
    "pop\n"
   ]
  },
  {
   "cell_type": "code",
   "execution_count": null,
   "id": "a9b10daa-4141-4615-839b-53fe8200af71",
   "metadata": {},
   "outputs": [],
   "source": [
    "pop = pop.drop([\"UN Subregion\", \"pop_change\"], axis=1)\n",
    "pop\n"
   ]
  },
  {
   "cell_type": "code",
   "execution_count": null,
   "id": "61027e93-84db-43da-b6c2-2cef9e5dc678",
   "metadata": {},
   "outputs": [],
   "source": []
  },
  {
   "cell_type": "code",
   "execution_count": null,
   "id": "1b8521d5-ac8a-48ed-be41-8130990e5073",
   "metadata": {},
   "outputs": [],
   "source": [
    "# Import display options for showing websites\n",
    "from IPython.display import IFrame\n",
    "url = 'https://en.wikipedia.org/wiki/List_of_ISO_3166_country_codes'\n",
    "IFrame(url, width=800, height=400)\n",
    "isocodes = pd.read_html(url, encoding='utf-8')[0]\n",
    "isocodes\n"
   ]
  },
  {
   "cell_type": "code",
   "execution_count": null,
   "id": "231218cc-cf7e-42a3-b0d0-aac1fcc2ef9b",
   "metadata": {},
   "outputs": [],
   "source": [
    "isocodes.columns\n",
    "isocodes = isocodes.droplevel(0, axis=1)\n",
    "isocodes\n"
   ]
  },
  {
   "cell_type": "code",
   "execution_count": null,
   "id": "d5cfe087-ae24-4e88-90e9-ae5356a55583",
   "metadata": {},
   "outputs": [],
   "source": [
    "mycols = isocodes.columns\n",
    "mycols = [c[:c.find('[')] for c in mycols]\n",
    "mycols\n",
    "isocodes.columns = mycols\n",
    "isocodes.head()\n"
   ]
  },
  {
   "cell_type": "code",
   "execution_count": null,
   "id": "51b665f6-0d8b-4b6e-930b-db221fc70cfc",
   "metadata": {},
   "outputs": [],
   "source": [
    "isocodes.columns = ['Country Name','Official state name', 'Sovereignty', 'Alpha-2 code', 'Alpha-3 code', 'Numeric code', \n",
    "                    'Subdivision code links', 'Internet ccTLD']\n",
    "isocodes\n"
   ]
  },
  {
   "cell_type": "code",
   "execution_count": null,
   "id": "2f9316dc-db55-40ca-8c39-23aa75f43298",
   "metadata": {},
   "outputs": [],
   "source": [
    "isocodes = isocodes.drop([\"Official state name\", \"Sovereignty\"], axis=1)\n",
    "isocodes\n"
   ]
  },
  {
   "cell_type": "code",
   "execution_count": null,
   "id": "1e7fe212-f792-4f56-8b00-c2a50a321eb2",
   "metadata": {},
   "outputs": [],
   "source": [
    "merged = pop.merge(isocodes, left_on='Country Name', right_on='Country Name')\n",
    "merged\n"
   ]
  },
  {
   "cell_type": "code",
   "execution_count": null,
   "id": "14c1a203-c07e-42d3-a917-67dc566db9fb",
   "metadata": {},
   "outputs": [],
   "source": [
    "url = 'https://en.wikipedia.org/wiki/List_of_countries_by_GDP_(PPP)_per_capita'\n",
    "IFrame(url, width=800, height=400)\n",
    "gdppc_wiki = pd.read_html(url, encoding='utf-8')[1]\n",
    "gdppc_wiki\n"
   ]
  },
  {
   "cell_type": "code",
   "execution_count": null,
   "id": "99c61b16-09b0-41f8-b74f-368a9b2dee9d",
   "metadata": {},
   "outputs": [],
   "source": [
    "gdppc_wiki.columns = ['Country/Territory', 'UN Region', 'gdppc_IMF', 'year_IMF',\n",
    "                      'gdppc_WB', 'year_WB', 'gdppc_CIA', 'year_CIA']\n",
    "gdppc_wiki.head()\n"
   ]
  },
  {
   "cell_type": "code",
   "execution_count": null,
   "id": "12ab4507-e3d7-47fd-b1ef-6dfb39600417",
   "metadata": {},
   "outputs": [],
   "source": [
    "gdppc_wiki['Country/Territory'] = gdppc_wiki['Country/Territory'].str.replace('*', '', regex=True).str.strip()\n",
    "gdppc_wiki.head()\n"
   ]
  },
  {
   "cell_type": "code",
   "execution_count": null,
   "id": "48eb0be5-4dda-4872-9ca1-bdeaab07cad6",
   "metadata": {},
   "outputs": [],
   "source": [
    "gdppc_wiki.dtypes\n",
    "gdppc_wiki = gdppc_wiki.drop(labels=139, axis=0)\n",
    "gdppc_wiki\n"
   ]
  },
  {
   "cell_type": "code",
   "execution_count": null,
   "id": "571dc2e9-751b-4688-b0b5-8aab287e7d55",
   "metadata": {},
   "outputs": [],
   "source": [
    "for c in gdppc_wiki.columns[2:]:\n",
    "    if gdppc_wiki[c].dtype=='O':\n",
    "        gdppc_wiki[c] = pd.to_numeric(gdppc_wiki[c].str.replace('—', 'nan'), errors='coerce')\n",
    "        if c.startswith('year'):\n",
    "            gdppc_wiki[c] = gdppc_wiki[c].astype('Int64')\n",
    "gdppc_wiki.dtypes\n"
   ]
  },
  {
   "cell_type": "code",
   "execution_count": null,
   "id": "6210c5a4-076b-4866-9788-3ec5935a3118",
   "metadata": {},
   "outputs": [],
   "source": [
    "bigmerged = merged.merge(gdppc_wiki, left_on='Country Name', right_on='Country/Territory')\n",
    "bigmerged = bigmerged.drop([\"Country/Territory\", \"UN Region_y\"], axis=1)\n",
    "bigmerged\n"
   ]
  }
 ],
 "metadata": {
  "kernelspec": {
   "display_name": "Python 3 (ipykernel)",
   "language": "python",
   "name": "python3"
  },
  "language_info": {
   "codemirror_mode": {
    "name": "ipython",
    "version": 3
   },
   "file_extension": ".py",
   "mimetype": "text/x-python",
   "name": "python",
   "nbconvert_exporter": "python",
   "pygments_lexer": "ipython3",
   "version": "3.9.13"
  }
 },
 "nbformat": 4,
 "nbformat_minor": 5
}
